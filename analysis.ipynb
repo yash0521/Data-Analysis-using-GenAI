{
 "cells": [
  {
   "cell_type": "code",
   "execution_count": 1,
   "metadata": {},
   "outputs": [],
   "source": [
    "#%pip install asammdf\n",
    "\n",
    "from asammdf import MDF\n",
    "import os"
   ]
  },
  {
   "cell_type": "code",
   "execution_count": 2,
   "metadata": {},
   "outputs": [],
   "source": [
    "mdf_folder = 'data/mdf'\n",
    "csv_folder = 'data/csv'\n",
    "\n",
    "os.makedirs(csv_folder, exist_ok=True)"
   ]
  },
  {
   "cell_type": "code",
   "execution_count": 3,
   "metadata": {},
   "outputs": [],
   "source": [
    "mdf_files = [f for f in os.listdir(mdf_folder) if f.endswith('.mf4')]"
   ]
  },
  {
   "cell_type": "code",
   "execution_count": 4,
   "metadata": {},
   "outputs": [
    {
     "name": "stdout",
     "output_type": "stream",
     "text": [
      "Exported Vehicle03_meas3.mf4 to CSVs\n",
      "Exported Vehicle05_meas3.mf4 to CSVs\n",
      "Exported Vehicle01_meas4.mf4 to CSVs\n"
     ]
    }
   ],
   "source": [
    "for mdf_file in mdf_files:\n",
    "    mdf_path = os.path.join(mdf_folder, mdf_file)\n",
    "    base_name = os.path.splitext(mdf_file)[0]\n",
    "    \n",
    "    mdf = MDF(mdf_path)\n",
    "    out_path = os.path.join(csv_folder, base_name)\n",
    "    mdf.export('csv', out_path)\n",
    "    print(f\"Exported {mdf_file} to CSVs\")"
   ]
  },
  {
   "cell_type": "code",
   "execution_count": null,
   "metadata": {},
   "outputs": [],
   "source": []
  }
 ],
 "metadata": {
  "kernelspec": {
   "display_name": ".venv",
   "language": "python",
   "name": "python3"
  },
  "language_info": {
   "codemirror_mode": {
    "name": "ipython",
    "version": 3
   },
   "file_extension": ".py",
   "mimetype": "text/x-python",
   "name": "python",
   "nbconvert_exporter": "python",
   "pygments_lexer": "ipython3",
   "version": "3.9.20"
  }
 },
 "nbformat": 4,
 "nbformat_minor": 2
}
