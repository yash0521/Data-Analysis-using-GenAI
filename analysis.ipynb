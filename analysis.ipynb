{
 "cells": [
  {
   "cell_type": "code",
   "execution_count": null,
   "metadata": {},
   "outputs": [],
   "source": [
    "#%pip install asammdf\n",
    "\n",
    "from asammdf import MDF\n",
    "import os"
   ]
  },
  {
   "cell_type": "code",
   "execution_count": null,
   "metadata": {},
   "outputs": [],
   "source": [
    "mdf_folder = 'data/mdf'\n",
    "csv_folder = 'data/csv'\n",
    "\n",
    "os.makedirs(csv_folder, exist_ok=True)"
   ]
  },
  {
   "cell_type": "code",
   "execution_count": null,
   "metadata": {},
   "outputs": [],
   "source": [
    "mdf_files = [f for f in os.listdir(mdf_folder) if f.endswith('.mf4')]"
   ]
  },
  {
   "cell_type": "code",
   "execution_count": null,
   "metadata": {},
   "outputs": [],
   "source": [
    "for mdf_file in mdf_files:\n",
    "    mdf_path = os.path.join(mdf_folder, mdf_file)\n",
    "    base_name = os.path.splitext(mdf_file)[0]\n",
    "    \n",
    "    mdf = MDF(mdf_path)\n",
    "    out_path = os.path.join(csv_folder, base_name)\n",
    "    mdf.export('csv', out_path)\n",
    "    print(f\"Exported {mdf_file} to CSVs\")"
   ]
  }
 ],
 "metadata": {
  "kernelspec": {
   "display_name": ".venv",
   "language": "python",
   "name": "python3"
  },
  "language_info": {
   "name": "python",
   "version": "3.9.20"
  }
 },
 "nbformat": 4,
 "nbformat_minor": 2
}
